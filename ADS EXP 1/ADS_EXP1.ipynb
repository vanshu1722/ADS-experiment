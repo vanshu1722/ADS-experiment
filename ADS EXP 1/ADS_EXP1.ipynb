{
  "nbformat": 4,
  "nbformat_minor": 0,
  "metadata": {
    "colab": {
      "provenance": []
    },
    "kernelspec": {
      "name": "python3",
      "display_name": "Python 3"
    },
    "language_info": {
      "name": "python"
    }
  },
  "cells": [
    {
      "cell_type": "markdown",
      "source": [
        "***IMPORTING LIBRARIES***"
      ],
      "metadata": {
        "id": "UeUZYZmL-zs4"
      }
    },
    {
      "cell_type": "code",
      "execution_count": 4,
      "metadata": {
        "id": "VQa8O440-jnG"
      },
      "outputs": [],
      "source": [
        "import pandas as pd\n",
        "import numpy as np\n",
        "import matplotlib.pyplot as plt\n",
        "import seaborn as sns"
      ]
    },
    {
      "cell_type": "code",
      "source": [
        "df = pd.read_csv(\"/content/ADS_Exp_1_Dataset - Form Responses 1.csv\")\n",
        "df.head(5)"
      ],
      "metadata": {
        "colab": {
          "base_uri": "https://localhost:8080/",
          "height": 516
        },
        "id": "VA6eZ7GG_GOh",
        "outputId": "a5fbc33a-891f-4713-b2a0-8458f3148f61"
      },
      "execution_count": 5,
      "outputs": [
        {
          "output_type": "execute_result",
          "data": {
            "text/plain": [
              "           Timestamp                      Email Address           Full Name  \\\n",
              "0  1/22/2024 22:06:29      2020.shubham.gupta@ves.ac.in       Shubham Gupta   \n",
              "1  1/22/2024 22:08:14  2020.siddhant.kodolkar@ves.ac.in  Siddhant Kodolkar    \n",
              "2  1/22/2024 22:09:14      2020.mansi.bellani@ves.ac.in       Mansi Bellani   \n",
              "3  1/22/2024 22:09:21      2020.aditya.mundas@ves.ac.in       Aditya Mundas   \n",
              "4  1/22/2024 22:09:47  2020.vishakha.kulkarni@ves.ac.in   Vishakha Kulkarni   \n",
              "\n",
              "  Division Have you opted Applied Data Science ? Have attended ADS lectures ?  \\\n",
              "0     D17C                                   Yes                          Yes   \n",
              "1     D17C                                   Yes                          Yes   \n",
              "2     D17C                                   Yes                          Yes   \n",
              "3     D17C                                   Yes                          Yes   \n",
              "4     D17C                                   Yes                          Yes   \n",
              "\n",
              "  Have attended ADS Lab ?  What number of lecture did you attend?  \\\n",
              "0                     Yes                                     4.0   \n",
              "1                     Yes                                     4.0   \n",
              "2                     Yes                                     2.0   \n",
              "3                     Yes                                     3.0   \n",
              "4                     Yes                                     2.0   \n",
              "\n",
              "   What number of labs did you attend?  \\\n",
              "0                                  2.0   \n",
              "1                                  1.0   \n",
              "2                                  2.0   \n",
              "3                                  1.0   \n",
              "4                                  1.0   \n",
              "\n",
              "   How well did you understand the concept of applied data science ?  ...  \\\n",
              "0                                                4.0                  ...   \n",
              "1                                                4.0                  ...   \n",
              "2                                                4.0                  ...   \n",
              "3                                                4.0                  ...   \n",
              "4                                                4.0                  ...   \n",
              "\n",
              "   How well did you understand the concept of cumulative frequency?  \\\n",
              "0                                                5.0                  \n",
              "1                                                4.0                  \n",
              "2                                                4.0                  \n",
              "3                                                5.0                  \n",
              "4                                                5.0                  \n",
              "\n",
              "   How well did you understand features related to iris flower dataset?  \\\n",
              "0                                                5.0                      \n",
              "1                                                4.0                      \n",
              "2                                                5.0                      \n",
              "3                                                4.0                      \n",
              "4                                                5.0                      \n",
              "\n",
              "   How well are you able to solves numerical problems based on cumulative frequency?  \\\n",
              "0                                                4.0                                   \n",
              "1                                                4.0                                   \n",
              "2                                                5.0                                   \n",
              "3                                                4.0                                   \n",
              "4                                                5.0                                   \n",
              "\n",
              "   How well are you able to understand the different graphs like bar and histogram ?  \\\n",
              "0                                                5.0                                   \n",
              "1                                                4.0                                   \n",
              "2                                                5.0                                   \n",
              "3                                                5.0                                   \n",
              "4                                                5.0                                   \n",
              "\n",
              "   How well are you able to find arithmetic median based on class interval ?  \\\n",
              "0                                                5.0                           \n",
              "1                                                4.0                           \n",
              "2                                                5.0                           \n",
              "3                                                5.0                           \n",
              "4                                                5.0                           \n",
              "\n",
              "   Explains concepts in understandable way  Solves doubts willingly  \\\n",
              "0                                      4.0                      4.0   \n",
              "1                                      4.0                      4.0   \n",
              "2                                      4.0                      5.0   \n",
              "3                                      5.0                      5.0   \n",
              "4                                      4.0                      3.0   \n",
              "\n",
              "   How is the structuring of course  How well was the use of presentation  \\\n",
              "0                               5.0                                   5.0   \n",
              "1                               4.0                                   4.0   \n",
              "2                               5.0                                   5.0   \n",
              "3                               5.0                                   5.0   \n",
              "4                               4.0                                   4.0   \n",
              "\n",
              "   Provide support for student going above and beyond  \n",
              "0                                                5.0   \n",
              "1                                                4.0   \n",
              "2                                                5.0   \n",
              "3                                                5.0   \n",
              "4                                                4.0   \n",
              "\n",
              "[5 rows x 24 columns]"
            ],
            "text/html": [
              "\n",
              "  <div id=\"df-9e44e65e-91ce-44a7-998a-affa6f9a563c\" class=\"colab-df-container\">\n",
              "    <div>\n",
              "<style scoped>\n",
              "    .dataframe tbody tr th:only-of-type {\n",
              "        vertical-align: middle;\n",
              "    }\n",
              "\n",
              "    .dataframe tbody tr th {\n",
              "        vertical-align: top;\n",
              "    }\n",
              "\n",
              "    .dataframe thead th {\n",
              "        text-align: right;\n",
              "    }\n",
              "</style>\n",
              "<table border=\"1\" class=\"dataframe\">\n",
              "  <thead>\n",
              "    <tr style=\"text-align: right;\">\n",
              "      <th></th>\n",
              "      <th>Timestamp</th>\n",
              "      <th>Email Address</th>\n",
              "      <th>Full Name</th>\n",
              "      <th>Division</th>\n",
              "      <th>Have you opted Applied Data Science ?</th>\n",
              "      <th>Have attended ADS lectures ?</th>\n",
              "      <th>Have attended ADS Lab ?</th>\n",
              "      <th>What number of lecture did you attend?</th>\n",
              "      <th>What number of labs did you attend?</th>\n",
              "      <th>How well did you understand the concept of applied data science ?</th>\n",
              "      <th>...</th>\n",
              "      <th>How well did you understand the concept of cumulative frequency?</th>\n",
              "      <th>How well did you understand features related to iris flower dataset?</th>\n",
              "      <th>How well are you able to solves numerical problems based on cumulative frequency?</th>\n",
              "      <th>How well are you able to understand the different graphs like bar and histogram ?</th>\n",
              "      <th>How well are you able to find arithmetic median based on class interval ?</th>\n",
              "      <th>Explains concepts in understandable way</th>\n",
              "      <th>Solves doubts willingly</th>\n",
              "      <th>How is the structuring of course</th>\n",
              "      <th>How well was the use of presentation</th>\n",
              "      <th>Provide support for student going above and beyond</th>\n",
              "    </tr>\n",
              "  </thead>\n",
              "  <tbody>\n",
              "    <tr>\n",
              "      <th>0</th>\n",
              "      <td>1/22/2024 22:06:29</td>\n",
              "      <td>2020.shubham.gupta@ves.ac.in</td>\n",
              "      <td>Shubham Gupta</td>\n",
              "      <td>D17C</td>\n",
              "      <td>Yes</td>\n",
              "      <td>Yes</td>\n",
              "      <td>Yes</td>\n",
              "      <td>4.0</td>\n",
              "      <td>2.0</td>\n",
              "      <td>4.0</td>\n",
              "      <td>...</td>\n",
              "      <td>5.0</td>\n",
              "      <td>5.0</td>\n",
              "      <td>4.0</td>\n",
              "      <td>5.0</td>\n",
              "      <td>5.0</td>\n",
              "      <td>4.0</td>\n",
              "      <td>4.0</td>\n",
              "      <td>5.0</td>\n",
              "      <td>5.0</td>\n",
              "      <td>5.0</td>\n",
              "    </tr>\n",
              "    <tr>\n",
              "      <th>1</th>\n",
              "      <td>1/22/2024 22:08:14</td>\n",
              "      <td>2020.siddhant.kodolkar@ves.ac.in</td>\n",
              "      <td>Siddhant Kodolkar</td>\n",
              "      <td>D17C</td>\n",
              "      <td>Yes</td>\n",
              "      <td>Yes</td>\n",
              "      <td>Yes</td>\n",
              "      <td>4.0</td>\n",
              "      <td>1.0</td>\n",
              "      <td>4.0</td>\n",
              "      <td>...</td>\n",
              "      <td>4.0</td>\n",
              "      <td>4.0</td>\n",
              "      <td>4.0</td>\n",
              "      <td>4.0</td>\n",
              "      <td>4.0</td>\n",
              "      <td>4.0</td>\n",
              "      <td>4.0</td>\n",
              "      <td>4.0</td>\n",
              "      <td>4.0</td>\n",
              "      <td>4.0</td>\n",
              "    </tr>\n",
              "    <tr>\n",
              "      <th>2</th>\n",
              "      <td>1/22/2024 22:09:14</td>\n",
              "      <td>2020.mansi.bellani@ves.ac.in</td>\n",
              "      <td>Mansi Bellani</td>\n",
              "      <td>D17C</td>\n",
              "      <td>Yes</td>\n",
              "      <td>Yes</td>\n",
              "      <td>Yes</td>\n",
              "      <td>2.0</td>\n",
              "      <td>2.0</td>\n",
              "      <td>4.0</td>\n",
              "      <td>...</td>\n",
              "      <td>4.0</td>\n",
              "      <td>5.0</td>\n",
              "      <td>5.0</td>\n",
              "      <td>5.0</td>\n",
              "      <td>5.0</td>\n",
              "      <td>4.0</td>\n",
              "      <td>5.0</td>\n",
              "      <td>5.0</td>\n",
              "      <td>5.0</td>\n",
              "      <td>5.0</td>\n",
              "    </tr>\n",
              "    <tr>\n",
              "      <th>3</th>\n",
              "      <td>1/22/2024 22:09:21</td>\n",
              "      <td>2020.aditya.mundas@ves.ac.in</td>\n",
              "      <td>Aditya Mundas</td>\n",
              "      <td>D17C</td>\n",
              "      <td>Yes</td>\n",
              "      <td>Yes</td>\n",
              "      <td>Yes</td>\n",
              "      <td>3.0</td>\n",
              "      <td>1.0</td>\n",
              "      <td>4.0</td>\n",
              "      <td>...</td>\n",
              "      <td>5.0</td>\n",
              "      <td>4.0</td>\n",
              "      <td>4.0</td>\n",
              "      <td>5.0</td>\n",
              "      <td>5.0</td>\n",
              "      <td>5.0</td>\n",
              "      <td>5.0</td>\n",
              "      <td>5.0</td>\n",
              "      <td>5.0</td>\n",
              "      <td>5.0</td>\n",
              "    </tr>\n",
              "    <tr>\n",
              "      <th>4</th>\n",
              "      <td>1/22/2024 22:09:47</td>\n",
              "      <td>2020.vishakha.kulkarni@ves.ac.in</td>\n",
              "      <td>Vishakha Kulkarni</td>\n",
              "      <td>D17C</td>\n",
              "      <td>Yes</td>\n",
              "      <td>Yes</td>\n",
              "      <td>Yes</td>\n",
              "      <td>2.0</td>\n",
              "      <td>1.0</td>\n",
              "      <td>4.0</td>\n",
              "      <td>...</td>\n",
              "      <td>5.0</td>\n",
              "      <td>5.0</td>\n",
              "      <td>5.0</td>\n",
              "      <td>5.0</td>\n",
              "      <td>5.0</td>\n",
              "      <td>4.0</td>\n",
              "      <td>3.0</td>\n",
              "      <td>4.0</td>\n",
              "      <td>4.0</td>\n",
              "      <td>4.0</td>\n",
              "    </tr>\n",
              "  </tbody>\n",
              "</table>\n",
              "<p>5 rows × 24 columns</p>\n",
              "</div>\n",
              "    <div class=\"colab-df-buttons\">\n",
              "\n",
              "  <div class=\"colab-df-container\">\n",
              "    <button class=\"colab-df-convert\" onclick=\"convertToInteractive('df-9e44e65e-91ce-44a7-998a-affa6f9a563c')\"\n",
              "            title=\"Convert this dataframe to an interactive table.\"\n",
              "            style=\"display:none;\">\n",
              "\n",
              "  <svg xmlns=\"http://www.w3.org/2000/svg\" height=\"24px\" viewBox=\"0 -960 960 960\">\n",
              "    <path d=\"M120-120v-720h720v720H120Zm60-500h600v-160H180v160Zm220 220h160v-160H400v160Zm0 220h160v-160H400v160ZM180-400h160v-160H180v160Zm440 0h160v-160H620v160ZM180-180h160v-160H180v160Zm440 0h160v-160H620v160Z\"/>\n",
              "  </svg>\n",
              "    </button>\n",
              "\n",
              "  <style>\n",
              "    .colab-df-container {\n",
              "      display:flex;\n",
              "      gap: 12px;\n",
              "    }\n",
              "\n",
              "    .colab-df-convert {\n",
              "      background-color: #E8F0FE;\n",
              "      border: none;\n",
              "      border-radius: 50%;\n",
              "      cursor: pointer;\n",
              "      display: none;\n",
              "      fill: #1967D2;\n",
              "      height: 32px;\n",
              "      padding: 0 0 0 0;\n",
              "      width: 32px;\n",
              "    }\n",
              "\n",
              "    .colab-df-convert:hover {\n",
              "      background-color: #E2EBFA;\n",
              "      box-shadow: 0px 1px 2px rgba(60, 64, 67, 0.3), 0px 1px 3px 1px rgba(60, 64, 67, 0.15);\n",
              "      fill: #174EA6;\n",
              "    }\n",
              "\n",
              "    .colab-df-buttons div {\n",
              "      margin-bottom: 4px;\n",
              "    }\n",
              "\n",
              "    [theme=dark] .colab-df-convert {\n",
              "      background-color: #3B4455;\n",
              "      fill: #D2E3FC;\n",
              "    }\n",
              "\n",
              "    [theme=dark] .colab-df-convert:hover {\n",
              "      background-color: #434B5C;\n",
              "      box-shadow: 0px 1px 3px 1px rgba(0, 0, 0, 0.15);\n",
              "      filter: drop-shadow(0px 1px 2px rgba(0, 0, 0, 0.3));\n",
              "      fill: #FFFFFF;\n",
              "    }\n",
              "  </style>\n",
              "\n",
              "    <script>\n",
              "      const buttonEl =\n",
              "        document.querySelector('#df-9e44e65e-91ce-44a7-998a-affa6f9a563c button.colab-df-convert');\n",
              "      buttonEl.style.display =\n",
              "        google.colab.kernel.accessAllowed ? 'block' : 'none';\n",
              "\n",
              "      async function convertToInteractive(key) {\n",
              "        const element = document.querySelector('#df-9e44e65e-91ce-44a7-998a-affa6f9a563c');\n",
              "        const dataTable =\n",
              "          await google.colab.kernel.invokeFunction('convertToInteractive',\n",
              "                                                    [key], {});\n",
              "        if (!dataTable) return;\n",
              "\n",
              "        const docLinkHtml = 'Like what you see? Visit the ' +\n",
              "          '<a target=\"_blank\" href=https://colab.research.google.com/notebooks/data_table.ipynb>data table notebook</a>'\n",
              "          + ' to learn more about interactive tables.';\n",
              "        element.innerHTML = '';\n",
              "        dataTable['output_type'] = 'display_data';\n",
              "        await google.colab.output.renderOutput(dataTable, element);\n",
              "        const docLink = document.createElement('div');\n",
              "        docLink.innerHTML = docLinkHtml;\n",
              "        element.appendChild(docLink);\n",
              "      }\n",
              "    </script>\n",
              "  </div>\n",
              "\n",
              "\n",
              "<div id=\"df-285eca20-4f23-4d34-93b2-60254335bf01\">\n",
              "  <button class=\"colab-df-quickchart\" onclick=\"quickchart('df-285eca20-4f23-4d34-93b2-60254335bf01')\"\n",
              "            title=\"Suggest charts\"\n",
              "            style=\"display:none;\">\n",
              "\n",
              "<svg xmlns=\"http://www.w3.org/2000/svg\" height=\"24px\"viewBox=\"0 0 24 24\"\n",
              "     width=\"24px\">\n",
              "    <g>\n",
              "        <path d=\"M19 3H5c-1.1 0-2 .9-2 2v14c0 1.1.9 2 2 2h14c1.1 0 2-.9 2-2V5c0-1.1-.9-2-2-2zM9 17H7v-7h2v7zm4 0h-2V7h2v10zm4 0h-2v-4h2v4z\"/>\n",
              "    </g>\n",
              "</svg>\n",
              "  </button>\n",
              "\n",
              "<style>\n",
              "  .colab-df-quickchart {\n",
              "      --bg-color: #E8F0FE;\n",
              "      --fill-color: #1967D2;\n",
              "      --hover-bg-color: #E2EBFA;\n",
              "      --hover-fill-color: #174EA6;\n",
              "      --disabled-fill-color: #AAA;\n",
              "      --disabled-bg-color: #DDD;\n",
              "  }\n",
              "\n",
              "  [theme=dark] .colab-df-quickchart {\n",
              "      --bg-color: #3B4455;\n",
              "      --fill-color: #D2E3FC;\n",
              "      --hover-bg-color: #434B5C;\n",
              "      --hover-fill-color: #FFFFFF;\n",
              "      --disabled-bg-color: #3B4455;\n",
              "      --disabled-fill-color: #666;\n",
              "  }\n",
              "\n",
              "  .colab-df-quickchart {\n",
              "    background-color: var(--bg-color);\n",
              "    border: none;\n",
              "    border-radius: 50%;\n",
              "    cursor: pointer;\n",
              "    display: none;\n",
              "    fill: var(--fill-color);\n",
              "    height: 32px;\n",
              "    padding: 0;\n",
              "    width: 32px;\n",
              "  }\n",
              "\n",
              "  .colab-df-quickchart:hover {\n",
              "    background-color: var(--hover-bg-color);\n",
              "    box-shadow: 0 1px 2px rgba(60, 64, 67, 0.3), 0 1px 3px 1px rgba(60, 64, 67, 0.15);\n",
              "    fill: var(--button-hover-fill-color);\n",
              "  }\n",
              "\n",
              "  .colab-df-quickchart-complete:disabled,\n",
              "  .colab-df-quickchart-complete:disabled:hover {\n",
              "    background-color: var(--disabled-bg-color);\n",
              "    fill: var(--disabled-fill-color);\n",
              "    box-shadow: none;\n",
              "  }\n",
              "\n",
              "  .colab-df-spinner {\n",
              "    border: 2px solid var(--fill-color);\n",
              "    border-color: transparent;\n",
              "    border-bottom-color: var(--fill-color);\n",
              "    animation:\n",
              "      spin 1s steps(1) infinite;\n",
              "  }\n",
              "\n",
              "  @keyframes spin {\n",
              "    0% {\n",
              "      border-color: transparent;\n",
              "      border-bottom-color: var(--fill-color);\n",
              "      border-left-color: var(--fill-color);\n",
              "    }\n",
              "    20% {\n",
              "      border-color: transparent;\n",
              "      border-left-color: var(--fill-color);\n",
              "      border-top-color: var(--fill-color);\n",
              "    }\n",
              "    30% {\n",
              "      border-color: transparent;\n",
              "      border-left-color: var(--fill-color);\n",
              "      border-top-color: var(--fill-color);\n",
              "      border-right-color: var(--fill-color);\n",
              "    }\n",
              "    40% {\n",
              "      border-color: transparent;\n",
              "      border-right-color: var(--fill-color);\n",
              "      border-top-color: var(--fill-color);\n",
              "    }\n",
              "    60% {\n",
              "      border-color: transparent;\n",
              "      border-right-color: var(--fill-color);\n",
              "    }\n",
              "    80% {\n",
              "      border-color: transparent;\n",
              "      border-right-color: var(--fill-color);\n",
              "      border-bottom-color: var(--fill-color);\n",
              "    }\n",
              "    90% {\n",
              "      border-color: transparent;\n",
              "      border-bottom-color: var(--fill-color);\n",
              "    }\n",
              "  }\n",
              "</style>\n",
              "\n",
              "  <script>\n",
              "    async function quickchart(key) {\n",
              "      const quickchartButtonEl =\n",
              "        document.querySelector('#' + key + ' button');\n",
              "      quickchartButtonEl.disabled = true;  // To prevent multiple clicks.\n",
              "      quickchartButtonEl.classList.add('colab-df-spinner');\n",
              "      try {\n",
              "        const charts = await google.colab.kernel.invokeFunction(\n",
              "            'suggestCharts', [key], {});\n",
              "      } catch (error) {\n",
              "        console.error('Error during call to suggestCharts:', error);\n",
              "      }\n",
              "      quickchartButtonEl.classList.remove('colab-df-spinner');\n",
              "      quickchartButtonEl.classList.add('colab-df-quickchart-complete');\n",
              "    }\n",
              "    (() => {\n",
              "      let quickchartButtonEl =\n",
              "        document.querySelector('#df-285eca20-4f23-4d34-93b2-60254335bf01 button');\n",
              "      quickchartButtonEl.style.display =\n",
              "        google.colab.kernel.accessAllowed ? 'block' : 'none';\n",
              "    })();\n",
              "  </script>\n",
              "</div>\n",
              "    </div>\n",
              "  </div>\n"
            ],
            "application/vnd.google.colaboratory.intrinsic+json": {
              "type": "dataframe",
              "variable_name": "df"
            }
          },
          "metadata": {},
          "execution_count": 5
        }
      ]
    },
    {
      "cell_type": "code",
      "source": [
        "df.columns"
      ],
      "metadata": {
        "colab": {
          "base_uri": "https://localhost:8080/"
        },
        "id": "Efkbkuj3AqET",
        "outputId": "b89a3857-d62e-4976-e931-9a734bfb1af2"
      },
      "execution_count": 6,
      "outputs": [
        {
          "output_type": "execute_result",
          "data": {
            "text/plain": [
              "Index(['Timestamp ', 'Email Address', 'Full Name', 'Division',\n",
              "       'Have you opted Applied Data Science ?', 'Have attended ADS lectures ?',\n",
              "       'Have attended ADS Lab ?', 'What number of lecture did you attend?',\n",
              "       'What number of labs did you attend?',\n",
              "       'How well did you understand the concept of applied data science ?',\n",
              "       'How well did you understand the difference between data science and data analytics ?',\n",
              "       'How well did you understand the data wrangling?',\n",
              "       'How well do you know about data lakes and different tools about data analytics?',\n",
              "       'How well did you understand the concept of mean, median and mode?',\n",
              "       'How well did you understand the concept of cumulative frequency?',\n",
              "       'How well did you understand features related to iris flower dataset?',\n",
              "       'How well are you able to solves numerical problems based on cumulative frequency?',\n",
              "       'How well are you able to understand the different graphs like bar and histogram ?',\n",
              "       'How well are you able to find arithmetic median based on class interval ?',\n",
              "       'Explains concepts in understandable way', 'Solves doubts willingly',\n",
              "       'How is the structuring of course',\n",
              "       'How well was the use of presentation',\n",
              "       'Provide support for student going above and beyond'],\n",
              "      dtype='object')"
            ]
          },
          "metadata": {},
          "execution_count": 6
        }
      ]
    },
    {
      "cell_type": "markdown",
      "source": [
        "***Statistical measures***"
      ],
      "metadata": {
        "id": "bzWomF8m_YTB"
      }
    },
    {
      "cell_type": "code",
      "source": [
        "df.describe()"
      ],
      "metadata": {
        "colab": {
          "base_uri": "https://localhost:8080/",
          "height": 494
        },
        "id": "ihZ6A_UG_P74",
        "outputId": "bb86c53a-a068-42f5-b76f-1e015c369747"
      },
      "execution_count": 7,
      "outputs": [
        {
          "output_type": "execute_result",
          "data": {
            "text/plain": [
              "       What number of lecture did you attend?  \\\n",
              "count                               34.000000   \n",
              "mean                                 3.411765   \n",
              "std                                  0.957194   \n",
              "min                                  2.000000   \n",
              "25%                                  3.000000   \n",
              "50%                                  3.000000   \n",
              "75%                                  4.000000   \n",
              "max                                  5.000000   \n",
              "\n",
              "       What number of labs did you attend?  \\\n",
              "count                            34.000000   \n",
              "mean                              1.147059   \n",
              "std                               0.702047   \n",
              "min                               0.000000   \n",
              "25%                               1.000000   \n",
              "50%                               1.000000   \n",
              "75%                               2.000000   \n",
              "max                               2.000000   \n",
              "\n",
              "       How well did you understand the concept of applied data science ?  \\\n",
              "count                                          34.000000                   \n",
              "mean                                            3.764706                   \n",
              "std                                             1.046171                   \n",
              "min                                             1.000000                   \n",
              "25%                                             3.250000                   \n",
              "50%                                             4.000000                   \n",
              "75%                                             4.000000                   \n",
              "max                                             5.000000                   \n",
              "\n",
              "       How well did you understand the difference between data science and data analytics ?  \\\n",
              "count                                          34.000000                                      \n",
              "mean                                            3.970588                                      \n",
              "std                                             0.904041                                      \n",
              "min                                             1.000000                                      \n",
              "25%                                             3.250000                                      \n",
              "50%                                             4.000000                                      \n",
              "75%                                             5.000000                                      \n",
              "max                                             5.000000                                      \n",
              "\n",
              "       How well did you understand the data wrangling?  \\\n",
              "count                                        34.000000   \n",
              "mean                                          3.323529   \n",
              "std                                           0.976096   \n",
              "min                                           1.000000   \n",
              "25%                                           3.000000   \n",
              "50%                                           3.000000   \n",
              "75%                                           4.000000   \n",
              "max                                           5.000000   \n",
              "\n",
              "       How well do you know about data lakes and different tools about data analytics?  \\\n",
              "count                                          34.000000                                 \n",
              "mean                                            3.529412                                 \n",
              "std                                             0.991946                                 \n",
              "min                                             1.000000                                 \n",
              "25%                                             3.000000                                 \n",
              "50%                                             3.500000                                 \n",
              "75%                                             4.000000                                 \n",
              "max                                             5.000000                                 \n",
              "\n",
              "       How well did you understand the concept of mean, median and mode?  \\\n",
              "count                                          34.000000                   \n",
              "mean                                            4.441176                   \n",
              "std                                             0.785905                   \n",
              "min                                             3.000000                   \n",
              "25%                                             4.000000                   \n",
              "50%                                             5.000000                   \n",
              "75%                                             5.000000                   \n",
              "max                                             5.000000                   \n",
              "\n",
              "       How well did you understand the concept of cumulative frequency?  \\\n",
              "count                                          34.000000                  \n",
              "mean                                            4.117647                  \n",
              "std                                             1.007989                  \n",
              "min                                             1.000000                  \n",
              "25%                                             4.000000                  \n",
              "50%                                             4.000000                  \n",
              "75%                                             5.000000                  \n",
              "max                                             5.000000                  \n",
              "\n",
              "       How well did you understand features related to iris flower dataset?  \\\n",
              "count                                          34.000000                      \n",
              "mean                                            3.882353                      \n",
              "std                                             1.094468                      \n",
              "min                                             1.000000                      \n",
              "25%                                             3.000000                      \n",
              "50%                                             4.000000                      \n",
              "75%                                             5.000000                      \n",
              "max                                             5.000000                      \n",
              "\n",
              "       How well are you able to solves numerical problems based on cumulative frequency?  \\\n",
              "count                                          34.000000                                   \n",
              "mean                                            3.970588                                   \n",
              "std                                             0.936961                                   \n",
              "min                                             1.000000                                   \n",
              "25%                                             3.000000                                   \n",
              "50%                                             4.000000                                   \n",
              "75%                                             5.000000                                   \n",
              "max                                             5.000000                                   \n",
              "\n",
              "       How well are you able to understand the different graphs like bar and histogram ?  \\\n",
              "count                                          34.000000                                   \n",
              "mean                                            4.147059                                   \n",
              "std                                             1.018982                                   \n",
              "min                                             1.000000                                   \n",
              "25%                                             4.000000                                   \n",
              "50%                                             4.000000                                   \n",
              "75%                                             5.000000                                   \n",
              "max                                             5.000000                                   \n",
              "\n",
              "       How well are you able to find arithmetic median based on class interval ?  \\\n",
              "count                                          34.000000                           \n",
              "mean                                            4.147059                           \n",
              "std                                             0.925476                           \n",
              "min                                             1.000000                           \n",
              "25%                                             4.000000                           \n",
              "50%                                             4.000000                           \n",
              "75%                                             5.000000                           \n",
              "max                                             5.000000                           \n",
              "\n",
              "       Explains concepts in understandable way  Solves doubts willingly  \\\n",
              "count                                34.000000                34.000000   \n",
              "mean                                  3.852941                 3.941176   \n",
              "std                                   0.892132                 1.013281   \n",
              "min                                   1.000000                 1.000000   \n",
              "25%                                   3.250000                 3.000000   \n",
              "50%                                   4.000000                 4.000000   \n",
              "75%                                   4.000000                 5.000000   \n",
              "max                                   5.000000                 5.000000   \n",
              "\n",
              "       How is the structuring of course  How well was the use of presentation  \\\n",
              "count                         34.000000                             34.000000   \n",
              "mean                           3.823529                              4.000000   \n",
              "std                            1.058031                              0.984732   \n",
              "min                            1.000000                              2.000000   \n",
              "25%                            3.250000                              3.000000   \n",
              "50%                            4.000000                              4.000000   \n",
              "75%                            4.750000                              5.000000   \n",
              "max                            5.000000                              5.000000   \n",
              "\n",
              "       Provide support for student going above and beyond  \n",
              "count                                          34.000000   \n",
              "mean                                            3.882353   \n",
              "std                                             0.977464   \n",
              "min                                             1.000000   \n",
              "25%                                             3.000000   \n",
              "50%                                             4.000000   \n",
              "75%                                             5.000000   \n",
              "max                                             5.000000   "
            ],
            "text/html": [
              "\n",
              "  <div id=\"df-570401e9-2ae1-4515-9b51-b8b3383d8e72\" class=\"colab-df-container\">\n",
              "    <div>\n",
              "<style scoped>\n",
              "    .dataframe tbody tr th:only-of-type {\n",
              "        vertical-align: middle;\n",
              "    }\n",
              "\n",
              "    .dataframe tbody tr th {\n",
              "        vertical-align: top;\n",
              "    }\n",
              "\n",
              "    .dataframe thead th {\n",
              "        text-align: right;\n",
              "    }\n",
              "</style>\n",
              "<table border=\"1\" class=\"dataframe\">\n",
              "  <thead>\n",
              "    <tr style=\"text-align: right;\">\n",
              "      <th></th>\n",
              "      <th>What number of lecture did you attend?</th>\n",
              "      <th>What number of labs did you attend?</th>\n",
              "      <th>How well did you understand the concept of applied data science ?</th>\n",
              "      <th>How well did you understand the difference between data science and data analytics ?</th>\n",
              "      <th>How well did you understand the data wrangling?</th>\n",
              "      <th>How well do you know about data lakes and different tools about data analytics?</th>\n",
              "      <th>How well did you understand the concept of mean, median and mode?</th>\n",
              "      <th>How well did you understand the concept of cumulative frequency?</th>\n",
              "      <th>How well did you understand features related to iris flower dataset?</th>\n",
              "      <th>How well are you able to solves numerical problems based on cumulative frequency?</th>\n",
              "      <th>How well are you able to understand the different graphs like bar and histogram ?</th>\n",
              "      <th>How well are you able to find arithmetic median based on class interval ?</th>\n",
              "      <th>Explains concepts in understandable way</th>\n",
              "      <th>Solves doubts willingly</th>\n",
              "      <th>How is the structuring of course</th>\n",
              "      <th>How well was the use of presentation</th>\n",
              "      <th>Provide support for student going above and beyond</th>\n",
              "    </tr>\n",
              "  </thead>\n",
              "  <tbody>\n",
              "    <tr>\n",
              "      <th>count</th>\n",
              "      <td>34.000000</td>\n",
              "      <td>34.000000</td>\n",
              "      <td>34.000000</td>\n",
              "      <td>34.000000</td>\n",
              "      <td>34.000000</td>\n",
              "      <td>34.000000</td>\n",
              "      <td>34.000000</td>\n",
              "      <td>34.000000</td>\n",
              "      <td>34.000000</td>\n",
              "      <td>34.000000</td>\n",
              "      <td>34.000000</td>\n",
              "      <td>34.000000</td>\n",
              "      <td>34.000000</td>\n",
              "      <td>34.000000</td>\n",
              "      <td>34.000000</td>\n",
              "      <td>34.000000</td>\n",
              "      <td>34.000000</td>\n",
              "    </tr>\n",
              "    <tr>\n",
              "      <th>mean</th>\n",
              "      <td>3.411765</td>\n",
              "      <td>1.147059</td>\n",
              "      <td>3.764706</td>\n",
              "      <td>3.970588</td>\n",
              "      <td>3.323529</td>\n",
              "      <td>3.529412</td>\n",
              "      <td>4.441176</td>\n",
              "      <td>4.117647</td>\n",
              "      <td>3.882353</td>\n",
              "      <td>3.970588</td>\n",
              "      <td>4.147059</td>\n",
              "      <td>4.147059</td>\n",
              "      <td>3.852941</td>\n",
              "      <td>3.941176</td>\n",
              "      <td>3.823529</td>\n",
              "      <td>4.000000</td>\n",
              "      <td>3.882353</td>\n",
              "    </tr>\n",
              "    <tr>\n",
              "      <th>std</th>\n",
              "      <td>0.957194</td>\n",
              "      <td>0.702047</td>\n",
              "      <td>1.046171</td>\n",
              "      <td>0.904041</td>\n",
              "      <td>0.976096</td>\n",
              "      <td>0.991946</td>\n",
              "      <td>0.785905</td>\n",
              "      <td>1.007989</td>\n",
              "      <td>1.094468</td>\n",
              "      <td>0.936961</td>\n",
              "      <td>1.018982</td>\n",
              "      <td>0.925476</td>\n",
              "      <td>0.892132</td>\n",
              "      <td>1.013281</td>\n",
              "      <td>1.058031</td>\n",
              "      <td>0.984732</td>\n",
              "      <td>0.977464</td>\n",
              "    </tr>\n",
              "    <tr>\n",
              "      <th>min</th>\n",
              "      <td>2.000000</td>\n",
              "      <td>0.000000</td>\n",
              "      <td>1.000000</td>\n",
              "      <td>1.000000</td>\n",
              "      <td>1.000000</td>\n",
              "      <td>1.000000</td>\n",
              "      <td>3.000000</td>\n",
              "      <td>1.000000</td>\n",
              "      <td>1.000000</td>\n",
              "      <td>1.000000</td>\n",
              "      <td>1.000000</td>\n",
              "      <td>1.000000</td>\n",
              "      <td>1.000000</td>\n",
              "      <td>1.000000</td>\n",
              "      <td>1.000000</td>\n",
              "      <td>2.000000</td>\n",
              "      <td>1.000000</td>\n",
              "    </tr>\n",
              "    <tr>\n",
              "      <th>25%</th>\n",
              "      <td>3.000000</td>\n",
              "      <td>1.000000</td>\n",
              "      <td>3.250000</td>\n",
              "      <td>3.250000</td>\n",
              "      <td>3.000000</td>\n",
              "      <td>3.000000</td>\n",
              "      <td>4.000000</td>\n",
              "      <td>4.000000</td>\n",
              "      <td>3.000000</td>\n",
              "      <td>3.000000</td>\n",
              "      <td>4.000000</td>\n",
              "      <td>4.000000</td>\n",
              "      <td>3.250000</td>\n",
              "      <td>3.000000</td>\n",
              "      <td>3.250000</td>\n",
              "      <td>3.000000</td>\n",
              "      <td>3.000000</td>\n",
              "    </tr>\n",
              "    <tr>\n",
              "      <th>50%</th>\n",
              "      <td>3.000000</td>\n",
              "      <td>1.000000</td>\n",
              "      <td>4.000000</td>\n",
              "      <td>4.000000</td>\n",
              "      <td>3.000000</td>\n",
              "      <td>3.500000</td>\n",
              "      <td>5.000000</td>\n",
              "      <td>4.000000</td>\n",
              "      <td>4.000000</td>\n",
              "      <td>4.000000</td>\n",
              "      <td>4.000000</td>\n",
              "      <td>4.000000</td>\n",
              "      <td>4.000000</td>\n",
              "      <td>4.000000</td>\n",
              "      <td>4.000000</td>\n",
              "      <td>4.000000</td>\n",
              "      <td>4.000000</td>\n",
              "    </tr>\n",
              "    <tr>\n",
              "      <th>75%</th>\n",
              "      <td>4.000000</td>\n",
              "      <td>2.000000</td>\n",
              "      <td>4.000000</td>\n",
              "      <td>5.000000</td>\n",
              "      <td>4.000000</td>\n",
              "      <td>4.000000</td>\n",
              "      <td>5.000000</td>\n",
              "      <td>5.000000</td>\n",
              "      <td>5.000000</td>\n",
              "      <td>5.000000</td>\n",
              "      <td>5.000000</td>\n",
              "      <td>5.000000</td>\n",
              "      <td>4.000000</td>\n",
              "      <td>5.000000</td>\n",
              "      <td>4.750000</td>\n",
              "      <td>5.000000</td>\n",
              "      <td>5.000000</td>\n",
              "    </tr>\n",
              "    <tr>\n",
              "      <th>max</th>\n",
              "      <td>5.000000</td>\n",
              "      <td>2.000000</td>\n",
              "      <td>5.000000</td>\n",
              "      <td>5.000000</td>\n",
              "      <td>5.000000</td>\n",
              "      <td>5.000000</td>\n",
              "      <td>5.000000</td>\n",
              "      <td>5.000000</td>\n",
              "      <td>5.000000</td>\n",
              "      <td>5.000000</td>\n",
              "      <td>5.000000</td>\n",
              "      <td>5.000000</td>\n",
              "      <td>5.000000</td>\n",
              "      <td>5.000000</td>\n",
              "      <td>5.000000</td>\n",
              "      <td>5.000000</td>\n",
              "      <td>5.000000</td>\n",
              "    </tr>\n",
              "  </tbody>\n",
              "</table>\n",
              "</div>\n",
              "    <div class=\"colab-df-buttons\">\n",
              "\n",
              "  <div class=\"colab-df-container\">\n",
              "    <button class=\"colab-df-convert\" onclick=\"convertToInteractive('df-570401e9-2ae1-4515-9b51-b8b3383d8e72')\"\n",
              "            title=\"Convert this dataframe to an interactive table.\"\n",
              "            style=\"display:none;\">\n",
              "\n",
              "  <svg xmlns=\"http://www.w3.org/2000/svg\" height=\"24px\" viewBox=\"0 -960 960 960\">\n",
              "    <path d=\"M120-120v-720h720v720H120Zm60-500h600v-160H180v160Zm220 220h160v-160H400v160Zm0 220h160v-160H400v160ZM180-400h160v-160H180v160Zm440 0h160v-160H620v160ZM180-180h160v-160H180v160Zm440 0h160v-160H620v160Z\"/>\n",
              "  </svg>\n",
              "    </button>\n",
              "\n",
              "  <style>\n",
              "    .colab-df-container {\n",
              "      display:flex;\n",
              "      gap: 12px;\n",
              "    }\n",
              "\n",
              "    .colab-df-convert {\n",
              "      background-color: #E8F0FE;\n",
              "      border: none;\n",
              "      border-radius: 50%;\n",
              "      cursor: pointer;\n",
              "      display: none;\n",
              "      fill: #1967D2;\n",
              "      height: 32px;\n",
              "      padding: 0 0 0 0;\n",
              "      width: 32px;\n",
              "    }\n",
              "\n",
              "    .colab-df-convert:hover {\n",
              "      background-color: #E2EBFA;\n",
              "      box-shadow: 0px 1px 2px rgba(60, 64, 67, 0.3), 0px 1px 3px 1px rgba(60, 64, 67, 0.15);\n",
              "      fill: #174EA6;\n",
              "    }\n",
              "\n",
              "    .colab-df-buttons div {\n",
              "      margin-bottom: 4px;\n",
              "    }\n",
              "\n",
              "    [theme=dark] .colab-df-convert {\n",
              "      background-color: #3B4455;\n",
              "      fill: #D2E3FC;\n",
              "    }\n",
              "\n",
              "    [theme=dark] .colab-df-convert:hover {\n",
              "      background-color: #434B5C;\n",
              "      box-shadow: 0px 1px 3px 1px rgba(0, 0, 0, 0.15);\n",
              "      filter: drop-shadow(0px 1px 2px rgba(0, 0, 0, 0.3));\n",
              "      fill: #FFFFFF;\n",
              "    }\n",
              "  </style>\n",
              "\n",
              "    <script>\n",
              "      const buttonEl =\n",
              "        document.querySelector('#df-570401e9-2ae1-4515-9b51-b8b3383d8e72 button.colab-df-convert');\n",
              "      buttonEl.style.display =\n",
              "        google.colab.kernel.accessAllowed ? 'block' : 'none';\n",
              "\n",
              "      async function convertToInteractive(key) {\n",
              "        const element = document.querySelector('#df-570401e9-2ae1-4515-9b51-b8b3383d8e72');\n",
              "        const dataTable =\n",
              "          await google.colab.kernel.invokeFunction('convertToInteractive',\n",
              "                                                    [key], {});\n",
              "        if (!dataTable) return;\n",
              "\n",
              "        const docLinkHtml = 'Like what you see? Visit the ' +\n",
              "          '<a target=\"_blank\" href=https://colab.research.google.com/notebooks/data_table.ipynb>data table notebook</a>'\n",
              "          + ' to learn more about interactive tables.';\n",
              "        element.innerHTML = '';\n",
              "        dataTable['output_type'] = 'display_data';\n",
              "        await google.colab.output.renderOutput(dataTable, element);\n",
              "        const docLink = document.createElement('div');\n",
              "        docLink.innerHTML = docLinkHtml;\n",
              "        element.appendChild(docLink);\n",
              "      }\n",
              "    </script>\n",
              "  </div>\n",
              "\n",
              "\n",
              "<div id=\"df-9d28154c-dbd1-49a8-90cf-e89a4ff90ca3\">\n",
              "  <button class=\"colab-df-quickchart\" onclick=\"quickchart('df-9d28154c-dbd1-49a8-90cf-e89a4ff90ca3')\"\n",
              "            title=\"Suggest charts\"\n",
              "            style=\"display:none;\">\n",
              "\n",
              "<svg xmlns=\"http://www.w3.org/2000/svg\" height=\"24px\"viewBox=\"0 0 24 24\"\n",
              "     width=\"24px\">\n",
              "    <g>\n",
              "        <path d=\"M19 3H5c-1.1 0-2 .9-2 2v14c0 1.1.9 2 2 2h14c1.1 0 2-.9 2-2V5c0-1.1-.9-2-2-2zM9 17H7v-7h2v7zm4 0h-2V7h2v10zm4 0h-2v-4h2v4z\"/>\n",
              "    </g>\n",
              "</svg>\n",
              "  </button>\n",
              "\n",
              "<style>\n",
              "  .colab-df-quickchart {\n",
              "      --bg-color: #E8F0FE;\n",
              "      --fill-color: #1967D2;\n",
              "      --hover-bg-color: #E2EBFA;\n",
              "      --hover-fill-color: #174EA6;\n",
              "      --disabled-fill-color: #AAA;\n",
              "      --disabled-bg-color: #DDD;\n",
              "  }\n",
              "\n",
              "  [theme=dark] .colab-df-quickchart {\n",
              "      --bg-color: #3B4455;\n",
              "      --fill-color: #D2E3FC;\n",
              "      --hover-bg-color: #434B5C;\n",
              "      --hover-fill-color: #FFFFFF;\n",
              "      --disabled-bg-color: #3B4455;\n",
              "      --disabled-fill-color: #666;\n",
              "  }\n",
              "\n",
              "  .colab-df-quickchart {\n",
              "    background-color: var(--bg-color);\n",
              "    border: none;\n",
              "    border-radius: 50%;\n",
              "    cursor: pointer;\n",
              "    display: none;\n",
              "    fill: var(--fill-color);\n",
              "    height: 32px;\n",
              "    padding: 0;\n",
              "    width: 32px;\n",
              "  }\n",
              "\n",
              "  .colab-df-quickchart:hover {\n",
              "    background-color: var(--hover-bg-color);\n",
              "    box-shadow: 0 1px 2px rgba(60, 64, 67, 0.3), 0 1px 3px 1px rgba(60, 64, 67, 0.15);\n",
              "    fill: var(--button-hover-fill-color);\n",
              "  }\n",
              "\n",
              "  .colab-df-quickchart-complete:disabled,\n",
              "  .colab-df-quickchart-complete:disabled:hover {\n",
              "    background-color: var(--disabled-bg-color);\n",
              "    fill: var(--disabled-fill-color);\n",
              "    box-shadow: none;\n",
              "  }\n",
              "\n",
              "  .colab-df-spinner {\n",
              "    border: 2px solid var(--fill-color);\n",
              "    border-color: transparent;\n",
              "    border-bottom-color: var(--fill-color);\n",
              "    animation:\n",
              "      spin 1s steps(1) infinite;\n",
              "  }\n",
              "\n",
              "  @keyframes spin {\n",
              "    0% {\n",
              "      border-color: transparent;\n",
              "      border-bottom-color: var(--fill-color);\n",
              "      border-left-color: var(--fill-color);\n",
              "    }\n",
              "    20% {\n",
              "      border-color: transparent;\n",
              "      border-left-color: var(--fill-color);\n",
              "      border-top-color: var(--fill-color);\n",
              "    }\n",
              "    30% {\n",
              "      border-color: transparent;\n",
              "      border-left-color: var(--fill-color);\n",
              "      border-top-color: var(--fill-color);\n",
              "      border-right-color: var(--fill-color);\n",
              "    }\n",
              "    40% {\n",
              "      border-color: transparent;\n",
              "      border-right-color: var(--fill-color);\n",
              "      border-top-color: var(--fill-color);\n",
              "    }\n",
              "    60% {\n",
              "      border-color: transparent;\n",
              "      border-right-color: var(--fill-color);\n",
              "    }\n",
              "    80% {\n",
              "      border-color: transparent;\n",
              "      border-right-color: var(--fill-color);\n",
              "      border-bottom-color: var(--fill-color);\n",
              "    }\n",
              "    90% {\n",
              "      border-color: transparent;\n",
              "      border-bottom-color: var(--fill-color);\n",
              "    }\n",
              "  }\n",
              "</style>\n",
              "\n",
              "  <script>\n",
              "    async function quickchart(key) {\n",
              "      const quickchartButtonEl =\n",
              "        document.querySelector('#' + key + ' button');\n",
              "      quickchartButtonEl.disabled = true;  // To prevent multiple clicks.\n",
              "      quickchartButtonEl.classList.add('colab-df-spinner');\n",
              "      try {\n",
              "        const charts = await google.colab.kernel.invokeFunction(\n",
              "            'suggestCharts', [key], {});\n",
              "      } catch (error) {\n",
              "        console.error('Error during call to suggestCharts:', error);\n",
              "      }\n",
              "      quickchartButtonEl.classList.remove('colab-df-spinner');\n",
              "      quickchartButtonEl.classList.add('colab-df-quickchart-complete');\n",
              "    }\n",
              "    (() => {\n",
              "      let quickchartButtonEl =\n",
              "        document.querySelector('#df-9d28154c-dbd1-49a8-90cf-e89a4ff90ca3 button');\n",
              "      quickchartButtonEl.style.display =\n",
              "        google.colab.kernel.accessAllowed ? 'block' : 'none';\n",
              "    })();\n",
              "  </script>\n",
              "</div>\n",
              "    </div>\n",
              "  </div>\n"
            ],
            "application/vnd.google.colaboratory.intrinsic+json": {
              "type": "dataframe",
              "summary": "{\n  \"name\": \"df\",\n  \"rows\": 8,\n  \"fields\": [\n    {\n      \"column\": \"What number of lecture did you attend?\",\n      \"properties\": {\n        \"dtype\": \"number\",\n        \"std\": 11.008705360511943,\n        \"min\": 0.957194355326071,\n        \"max\": 34.0,\n        \"samples\": [\n          34.0,\n          3.411764705882353,\n          4.0\n        ],\n        \"num_unique_values\": 7,\n        \"semantic_type\": \"\",\n        \"description\": \"\"\n      }\n    },\n    {\n      \"column\": \"What number of labs did you attend?\",\n      \"properties\": {\n        \"dtype\": \"number\",\n        \"std\": 11.64284057999367,\n        \"min\": 0.0,\n        \"max\": 34.0,\n        \"samples\": [\n          34.0,\n          1.1470588235294117,\n          2.0\n        ],\n        \"num_unique_values\": 6,\n        \"semantic_type\": \"\",\n        \"description\": \"\"\n      }\n    },\n    {\n      \"column\": \"How well did you understand the concept of applied data science ?\",\n      \"properties\": {\n        \"dtype\": \"number\",\n        \"std\": 10.999852221770329,\n        \"min\": 1.0,\n        \"max\": 34.0,\n        \"samples\": [\n          34.0,\n          3.764705882352941,\n          4.0\n        ],\n        \"num_unique_values\": 7,\n        \"semantic_type\": \"\",\n        \"description\": \"\"\n      }\n    },\n    {\n      \"column\": \"How well did you understand the difference between data science and data analytics ?\",\n      \"properties\": {\n        \"dtype\": \"number\",\n        \"std\": 10.969063314534095,\n        \"min\": 0.9040412338962589,\n        \"max\": 34.0,\n        \"samples\": [\n          34.0,\n          3.9705882352941178,\n          4.0\n        ],\n        \"num_unique_values\": 7,\n        \"semantic_type\": \"\",\n        \"description\": \"\"\n      }\n    },\n    {\n      \"column\": \"How well did you understand the data wrangling?\",\n      \"properties\": {\n        \"dtype\": \"number\",\n        \"std\": 11.08050056253834,\n        \"min\": 0.9760957552162383,\n        \"max\": 34.0,\n        \"samples\": [\n          34.0,\n          3.323529411764706,\n          4.0\n        ],\n        \"num_unique_values\": 7,\n        \"semantic_type\": \"\",\n        \"description\": \"\"\n      }\n    },\n    {\n      \"column\": \"How well do you know about data lakes and different tools about data analytics?\",\n      \"properties\": {\n        \"dtype\": \"number\",\n        \"std\": 11.04711970151499,\n        \"min\": 0.9919461775980272,\n        \"max\": 34.0,\n        \"samples\": [\n          3.5294117647058822,\n          3.5,\n          34.0\n        ],\n        \"num_unique_values\": 8,\n        \"semantic_type\": \"\",\n        \"description\": \"\"\n      }\n    },\n    {\n      \"column\": \"How well did you understand the concept of mean, median and mode?\",\n      \"properties\": {\n        \"dtype\": \"number\",\n        \"std\": 10.742088474314455,\n        \"min\": 0.7859052479933758,\n        \"max\": 34.0,\n        \"samples\": [\n          34.0,\n          4.4411764705882355,\n          5.0\n        ],\n        \"num_unique_values\": 6,\n        \"semantic_type\": \"\",\n        \"description\": \"\"\n      }\n    },\n    {\n      \"column\": \"How well did you understand the concept of cumulative frequency?\",\n      \"properties\": {\n        \"dtype\": \"number\",\n        \"std\": 10.919493429386806,\n        \"min\": 1.0,\n        \"max\": 34.0,\n        \"samples\": [\n          34.0,\n          4.117647058823529,\n          5.0\n        ],\n        \"num_unique_values\": 6,\n        \"semantic_type\": \"\",\n        \"description\": \"\"\n      }\n    },\n    {\n      \"column\": \"How well did you understand features related to iris flower dataset?\",\n      \"properties\": {\n        \"dtype\": \"number\",\n        \"std\": 10.970582448461535,\n        \"min\": 1.0,\n        \"max\": 34.0,\n        \"samples\": [\n          34.0,\n          3.8823529411764706,\n          4.0\n        ],\n        \"num_unique_values\": 7,\n        \"semantic_type\": \"\",\n        \"description\": \"\"\n      }\n    },\n    {\n      \"column\": \"How well are you able to solves numerical problems based on cumulative frequency?\",\n      \"properties\": {\n        \"dtype\": \"number\",\n        \"std\": 10.979427627904736,\n        \"min\": 0.9369613723044994,\n        \"max\": 34.0,\n        \"samples\": [\n          34.0,\n          3.9705882352941178,\n          4.0\n        ],\n        \"num_unique_values\": 7,\n        \"semantic_type\": \"\",\n        \"description\": \"\"\n      }\n    },\n    {\n      \"column\": \"How well are you able to understand the different graphs like bar and histogram ?\",\n      \"properties\": {\n        \"dtype\": \"number\",\n        \"std\": 10.917387065897195,\n        \"min\": 1.0,\n        \"max\": 34.0,\n        \"samples\": [\n          34.0,\n          4.147058823529412,\n          5.0\n        ],\n        \"num_unique_values\": 6,\n        \"semantic_type\": \"\",\n        \"description\": \"\"\n      }\n    },\n    {\n      \"column\": \"How well are you able to find arithmetic median based on class interval ?\",\n      \"properties\": {\n        \"dtype\": \"number\",\n        \"std\": 10.925083767492733,\n        \"min\": 0.9254762227411248,\n        \"max\": 34.0,\n        \"samples\": [\n          34.0,\n          4.147058823529412,\n          5.0\n        ],\n        \"num_unique_values\": 6,\n        \"semantic_type\": \"\",\n        \"description\": \"\"\n      }\n    },\n    {\n      \"column\": \"Explains concepts in understandable way\",\n      \"properties\": {\n        \"dtype\": \"number\",\n        \"std\": 11.008260035757605,\n        \"min\": 0.8921323770904851,\n        \"max\": 34.0,\n        \"samples\": [\n          34.0,\n          3.8529411764705883,\n          4.0\n        ],\n        \"num_unique_values\": 7,\n        \"semantic_type\": \"\",\n        \"description\": \"\"\n      }\n    },\n    {\n      \"column\": \"Solves doubts willingly\",\n      \"properties\": {\n        \"dtype\": \"number\",\n        \"std\": 10.97453763848241,\n        \"min\": 1.0,\n        \"max\": 34.0,\n        \"samples\": [\n          34.0,\n          3.9411764705882355,\n          4.0\n        ],\n        \"num_unique_values\": 7,\n        \"semantic_type\": \"\",\n        \"description\": \"\"\n      }\n    },\n    {\n      \"column\": \"How is the structuring of course\",\n      \"properties\": {\n        \"dtype\": \"number\",\n        \"std\": 10.97025079437015,\n        \"min\": 1.0,\n        \"max\": 34.0,\n        \"samples\": [\n          3.823529411764706,\n          4.0,\n          34.0\n        ],\n        \"num_unique_values\": 8,\n        \"semantic_type\": \"\",\n        \"description\": \"\"\n      }\n    },\n    {\n      \"column\": \"How well was the use of presentation\",\n      \"properties\": {\n        \"dtype\": \"number\",\n        \"std\": 10.900137973417984,\n        \"min\": 0.9847319278346619,\n        \"max\": 34.0,\n        \"samples\": [\n          34.0,\n          4.0,\n          5.0\n        ],\n        \"num_unique_values\": 6,\n        \"semantic_type\": \"\",\n        \"description\": \"\"\n      }\n    },\n    {\n      \"column\": \"Provide support for student going above and beyond\",\n      \"properties\": {\n        \"dtype\": \"number\",\n        \"std\": 10.979840273914588,\n        \"min\": 0.9774644342085305,\n        \"max\": 34.0,\n        \"samples\": [\n          34.0,\n          3.8823529411764706,\n          4.0\n        ],\n        \"num_unique_values\": 7,\n        \"semantic_type\": \"\",\n        \"description\": \"\"\n      }\n    }\n  ]\n}"
            }
          },
          "metadata": {},
          "execution_count": 7
        }
      ]
    },
    {
      "cell_type": "markdown",
      "source": [
        "***Check for missing values***"
      ],
      "metadata": {
        "id": "NsB5NTYG_UaI"
      }
    },
    {
      "cell_type": "code",
      "source": [
        "df.isnull().sum()"
      ],
      "metadata": {
        "colab": {
          "base_uri": "https://localhost:8080/"
        },
        "id": "yRhFQl1F_TdT",
        "outputId": "9587db1b-af98-49e0-bece-237048318357"
      },
      "execution_count": 8,
      "outputs": [
        {
          "output_type": "execute_result",
          "data": {
            "text/plain": [
              "Timestamp                                                                               0\n",
              "Email Address                                                                           0\n",
              "Full Name                                                                               0\n",
              "Division                                                                                0\n",
              "Have you opted Applied Data Science ?                                                   0\n",
              "Have attended ADS lectures ?                                                            6\n",
              "Have attended ADS Lab ?                                                                 6\n",
              "What number of lecture did you attend?                                                  6\n",
              "What number of labs did you attend?                                                     6\n",
              "How well did you understand the concept of applied data science ?                       6\n",
              "How well did you understand the difference between data science and data analytics ?    6\n",
              "How well did you understand the data wrangling?                                         6\n",
              "How well do you know about data lakes and different tools about data analytics?         6\n",
              "How well did you understand the concept of mean, median and mode?                       6\n",
              "How well did you understand the concept of cumulative frequency?                        6\n",
              "How well did you understand features related to iris flower dataset?                    6\n",
              "How well are you able to solves numerical problems based on cumulative frequency?       6\n",
              "How well are you able to understand the different graphs like bar and histogram ?       6\n",
              "How well are you able to find arithmetic median based on class interval ?               6\n",
              "Explains concepts in understandable way                                                 6\n",
              "Solves doubts willingly                                                                 6\n",
              "How is the structuring of course                                                        6\n",
              "How well was the use of presentation                                                    6\n",
              "Provide support for student going above and beyond                                      6\n",
              "dtype: int64"
            ]
          },
          "metadata": {},
          "execution_count": 8
        }
      ]
    },
    {
      "cell_type": "code",
      "source": [
        "df.rename(columns={\"Have you attended ADS lectures ?\": \"Have_you_attended_ADS_lectures\"}, inplace=True)"
      ],
      "metadata": {
        "id": "Ljj0FKmWBL2O"
      },
      "execution_count": 9,
      "outputs": []
    },
    {
      "cell_type": "markdown",
      "source": [
        "***Pie chart***"
      ],
      "metadata": {
        "id": "LQ1Kj2Y0_yL_"
      }
    },
    {
      "cell_type": "code",
      "source": [
        "attend = df[\"Have attended ADS lectures ?\"].value_counts()\n",
        "print(attend)"
      ],
      "metadata": {
        "colab": {
          "base_uri": "https://localhost:8080/"
        },
        "id": "IbkhEtOh_0d7",
        "outputId": "eb5db037-d3ed-4745-add5-cec40707440b"
      },
      "execution_count": 10,
      "outputs": [
        {
          "output_type": "stream",
          "name": "stdout",
          "text": [
            "Yes    33\n",
            "No      1\n",
            "Name: Have attended ADS lectures ?, dtype: int64\n"
          ]
        }
      ]
    },
    {
      "cell_type": "code",
      "source": [
        "plt.pie(attend,labels=['Yes','No'],autopct=\"%0.2f%%\")"
      ],
      "metadata": {
        "colab": {
          "base_uri": "https://localhost:8080/",
          "height": 510
        },
        "id": "4k8WepLlBgPL",
        "outputId": "2f93fbc9-d672-4aa6-da36-e8c3159f4653"
      },
      "execution_count": 11,
      "outputs": [
        {
          "output_type": "execute_result",
          "data": {
            "text/plain": [
              "([<matplotlib.patches.Wedge at 0x7d2eacc6c4c0>,\n",
              "  <matplotlib.patches.Wedge at 0x7d2eacc6e1d0>],\n",
              " [Text(-1.095307584980848, 0.10149529192737142, 'Yes'),\n",
              "  Text(1.095307576072086, -0.10149538806808751, 'No')],\n",
              " [Text(-0.5974405008986443, 0.05536106832402077, '97.06%'),\n",
              "  Text(0.5974404960393196, -0.05536112076441137, '2.94%')])"
            ]
          },
          "metadata": {},
          "execution_count": 11
        },
        {
          "output_type": "display_data",
          "data": {
            "text/plain": [
              "<Figure size 640x480 with 1 Axes>"
            ],
            "image/png": "[encoded data removed]"
          },
          "metadata": {}
        }
      ]
    },
    {
      "cell_type": "code",
      "source": [
        "df = df.dropna()\n",
        "print(df.isnull().sum())"
      ],
      "metadata": {
        "colab": {
          "base_uri": "https://localhost:8080/"
        },
        "id": "wAUiTM8XB1X0",
        "outputId": "bafc58ae-1e2d-4b41-f032-4cd5d662624a"
      },
      "execution_count": 12,
      "outputs": [
        {
          "output_type": "stream",
          "name": "stdout",
          "text": [
            "Timestamp                                                                               0\n",
            "Email Address                                                                           0\n",
            "Full Name                                                                               0\n",
            "Division                                                                                0\n",
            "Have you opted Applied Data Science ?                                                   0\n",
            "Have attended ADS lectures ?                                                            0\n",
            "Have attended ADS Lab ?                                                                 0\n",
            "What number of lecture did you attend?                                                  0\n",
            "What number of labs did you attend?                                                     0\n",
            "How well did you understand the concept of applied data science ?                       0\n",
            "How well did you understand the difference between data science and data analytics ?    0\n",
            "How well did you understand the data wrangling?                                         0\n",
            "How well do you know about data lakes and different tools about data analytics?         0\n",
            "How well did you understand the concept of mean, median and mode?                       0\n",
            "How well did you understand the concept of cumulative frequency?                        0\n",
            "How well did you understand features related to iris flower dataset?                    0\n",
            "How well are you able to solves numerical problems based on cumulative frequency?       0\n",
            "How well are you able to understand the different graphs like bar and histogram ?       0\n",
            "How well are you able to find arithmetic median based on class interval ?               0\n",
            "Explains concepts in understandable way                                                 0\n",
            "Solves doubts willingly                                                                 0\n",
            "How is the structuring of course                                                        0\n",
            "How well was the use of presentation                                                    0\n",
            "Provide support for student going above and beyond                                      0\n",
            "dtype: int64\n"
          ]
        }
      ]
    },
    {
      "cell_type": "markdown",
      "source": [
        "***Descriptive Analysis***"
      ],
      "metadata": {
        "id": "qeOsp0qHCB90"
      }
    },
    {
      "cell_type": "code",
      "source": [
        "selected_columns = [\n",
        " 'How well did you understand the concept of applied data science ?',\n",
        " 'How well did you understand the difference between data science and data analytics ?',\n",
        " 'How well did you understand the data wrangling?',\n",
        " 'How well do you know about data lakes and different tools about data analytics?',\n",
        " 'How well did you understand the concept of mean, median and mode?',\n",
        " 'How well did you understand the concept of cumulative frequency?',\n",
        " 'How well did you understand features related to iris flower dataset?',\n",
        " 'How well are you able to solves numerical problems based on cumulative frequency?',\n",
        " 'How well are you able to understand the different graphs like bar and histogram ?',\n",
        " 'How well are you able to find arithmetic median based on class interval ?',\n",
        " ]\n",
        "selected_df = df[selected_columns]"
      ],
      "metadata": {
        "id": "lksZPO41CGFr"
      },
      "execution_count": 13,
      "outputs": []
    },
    {
      "cell_type": "markdown",
      "source": [
        "***Mean***"
      ],
      "metadata": {
        "id": "2fjYgJ2QCjfo"
      }
    },
    {
      "cell_type": "code",
      "source": [
        "selected_df_mean = selected_df.mean()\n",
        "selected_df_mean"
      ],
      "metadata": {
        "colab": {
          "base_uri": "https://localhost:8080/"
        },
        "id": "kaEgilb5CP6a",
        "outputId": "c01ae239-bcad-4904-b38b-f6dc37fc5d9f"
      },
      "execution_count": 14,
      "outputs": [
        {
          "output_type": "execute_result",
          "data": {
            "text/plain": [
              "How well did you understand the concept of applied data science ?                       3.764706\n",
              "How well did you understand the difference between data science and data analytics ?    3.970588\n",
              "How well did you understand the data wrangling?                                         3.323529\n",
              "How well do you know about data lakes and different tools about data analytics?         3.529412\n",
              "How well did you understand the concept of mean, median and mode?                       4.441176\n",
              "How well did you understand the concept of cumulative frequency?                        4.117647\n",
              "How well did you understand features related to iris flower dataset?                    3.882353\n",
              "How well are you able to solves numerical problems based on cumulative frequency?       3.970588\n",
              "How well are you able to understand the different graphs like bar and histogram ?       4.147059\n",
              "How well are you able to find arithmetic median based on class interval ?               4.147059\n",
              "dtype: float64"
            ]
          },
          "metadata": {},
          "execution_count": 14
        }
      ]
    },
    {
      "cell_type": "markdown",
      "source": [
        "***Median***"
      ],
      "metadata": {
        "id": "ijIhGBpkCpBD"
      }
    },
    {
      "cell_type": "code",
      "source": [
        "selected_df_median = selected_df.median()\n",
        "selected_df_median"
      ],
      "metadata": {
        "colab": {
          "base_uri": "https://localhost:8080/"
        },
        "id": "7zalUfzsClyt",
        "outputId": "03aeee8b-a394-4026-f535-abef88b2d5a4"
      },
      "execution_count": 15,
      "outputs": [
        {
          "output_type": "execute_result",
          "data": {
            "text/plain": [
              "How well did you understand the concept of applied data science ?                       4.0\n",
              "How well did you understand the difference between data science and data analytics ?    4.0\n",
              "How well did you understand the data wrangling?                                         3.0\n",
              "How well do you know about data lakes and different tools about data analytics?         3.5\n",
              "How well did you understand the concept of mean, median and mode?                       5.0\n",
              "How well did you understand the concept of cumulative frequency?                        4.0\n",
              "How well did you understand features related to iris flower dataset?                    4.0\n",
              "How well are you able to solves numerical problems based on cumulative frequency?       4.0\n",
              "How well are you able to understand the different graphs like bar and histogram ?       4.0\n",
              "How well are you able to find arithmetic median based on class interval ?               4.0\n",
              "dtype: float64"
            ]
          },
          "metadata": {},
          "execution_count": 15
        }
      ]
    },
    {
      "cell_type": "markdown",
      "source": [
        "***Mode***"
      ],
      "metadata": {
        "id": "XfbSu0B6Cxqz"
      }
    },
    {
      "cell_type": "code",
      "source": [
        "selected_df_mode = selected_df.mode()\n",
        "selected_df_mode"
      ],
      "metadata": {
        "colab": {
          "base_uri": "https://localhost:8080/",
          "height": 274
        },
        "id": "M0L1PCEOCzEH",
        "outputId": "b76234c6-01fe-41db-fcb1-1701ed3f6f90"
      },
      "execution_count": 16,
      "outputs": [
        {
          "output_type": "execute_result",
          "data": {
            "text/plain": [
              "   How well did you understand the concept of applied data science ?  \\\n",
              "0                                                4.0                   \n",
              "\n",
              "   How well did you understand the difference between data science and data analytics ?  \\\n",
              "0                                                4.0                                      \n",
              "\n",
              "   How well did you understand the data wrangling?  \\\n",
              "0                                              3.0   \n",
              "\n",
              "   How well do you know about data lakes and different tools about data analytics?  \\\n",
              "0                                                3.0                                 \n",
              "\n",
              "   How well did you understand the concept of mean, median and mode?  \\\n",
              "0                                                5.0                   \n",
              "\n",
              "   How well did you understand the concept of cumulative frequency?  \\\n",
              "0                                                5.0                  \n",
              "\n",
              "   How well did you understand features related to iris flower dataset?  \\\n",
              "0                                                4.0                      \n",
              "\n",
              "   How well are you able to solves numerical problems based on cumulative frequency?  \\\n",
              "0                                                4.0                                   \n",
              "\n",
              "   How well are you able to understand the different graphs like bar and histogram ?  \\\n",
              "0                                                5.0                                   \n",
              "\n",
              "   How well are you able to find arithmetic median based on class interval ?  \n",
              "0                                                5.0                          "
            ],
            "text/html": [
              "\n",
              "  <div id=\"df-f3f75756-46c7-4e55-8021-8fc055d940a1\" class=\"colab-df-container\">\n",
              "    <div>\n",
              "<style scoped>\n",
              "    .dataframe tbody tr th:only-of-type {\n",
              "        vertical-align: middle;\n",
              "    }\n",
              "\n",
              "    .dataframe tbody tr th {\n",
              "        vertical-align: top;\n",
              "    }\n",
              "\n",
              "    .dataframe thead th {\n",
              "        text-align: right;\n",
              "    }\n",
              "</style>\n",
              "<table border=\"1\" class=\"dataframe\">\n",
              "  <thead>\n",
              "    <tr style=\"text-align: right;\">\n",
              "      <th></th>\n",
              "      <th>How well did you understand the concept of applied data science ?</th>\n",
              "      <th>How well did you understand the difference between data science and data analytics ?</th>\n",
              "      <th>How well did you understand the data wrangling?</th>\n",
              "      <th>How well do you know about data lakes and different tools about data analytics?</th>\n",
              "      <th>How well did you understand the concept of mean, median and mode?</th>\n",
              "      <th>How well did you understand the concept of cumulative frequency?</th>\n",
              "      <th>How well did you understand features related to iris flower dataset?</th>\n",
              "      <th>How well are you able to solves numerical problems based on cumulative frequency?</th>\n",
              "      <th>How well are you able to understand the different graphs like bar and histogram ?</th>\n",
              "      <th>How well are you able to find arithmetic median based on class interval ?</th>\n",
              "    </tr>\n",
              "  </thead>\n",
              "  <tbody>\n",
              "    <tr>\n",
              "      <th>0</th>\n",
              "      <td>4.0</td>\n",
              "      <td>4.0</td>\n",
              "      <td>3.0</td>\n",
              "      <td>3.0</td>\n",
              "      <td>5.0</td>\n",
              "      <td>5.0</td>\n",
              "      <td>4.0</td>\n",
              "      <td>4.0</td>\n",
              "      <td>5.0</td>\n",
              "      <td>5.0</td>\n",
              "    </tr>\n",
              "  </tbody>\n",
              "</table>\n",
              "</div>\n",
              "    <div class=\"colab-df-buttons\">\n",
              "\n",
              "  <div class=\"colab-df-container\">\n",
              "    <button class=\"colab-df-convert\" onclick=\"convertToInteractive('df-f3f75756-46c7-4e55-8021-8fc055d940a1')\"\n",
              "            title=\"Convert this dataframe to an interactive table.\"\n",
              "            style=\"display:none;\">\n",
              "\n",
              "  <svg xmlns=\"http://www.w3.org/2000/svg\" height=\"24px\" viewBox=\"0 -960 960 960\">\n",
              "    <path d=\"M120-120v-720h720v720H120Zm60-500h600v-160H180v160Zm220 220h160v-160H400v160Zm0 220h160v-160H400v160ZM180-400h160v-160H180v160Zm440 0h160v-160H620v160ZM180-180h160v-160H180v160Zm440 0h160v-160H620v160Z\"/>\n",
              "  </svg>\n",
              "    </button>\n",
              "\n",
              "  <style>\n",
              "    .colab-df-container {\n",
              "      display:flex;\n",
              "      gap: 12px;\n",
              "    }\n",
              "\n",
              "    .colab-df-convert {\n",
              "      background-color: #E8F0FE;\n",
              "      border: none;\n",
              "      border-radius: 50%;\n",
              "      cursor: pointer;\n",
              "      display: none;\n",
              "      fill: #1967D2;\n",
              "      height: 32px;\n",
              "      padding: 0 0 0 0;\n",
              "      width: 32px;\n",
              "    }\n",
              "\n",
              "    .colab-df-convert:hover {\n",
              "      background-color: #E2EBFA;\n",
              "      box-shadow: 0px 1px 2px rgba(60, 64, 67, 0.3), 0px 1px 3px 1px rgba(60, 64, 67, 0.15);\n",
              "      fill: #174EA6;\n",
              "    }\n",
              "\n",
              "    .colab-df-buttons div {\n",
              "      margin-bottom: 4px;\n",
              "    }\n",
              "\n",
              "    [theme=dark] .colab-df-convert {\n",
              "      background-color: #3B4455;\n",
              "      fill: #D2E3FC;\n",
              "    }\n",
              "\n",
              "    [theme=dark] .colab-df-convert:hover {\n",
              "      background-color: #434B5C;\n",
              "      box-shadow: 0px 1px 3px 1px rgba(0, 0, 0, 0.15);\n",
              "      filter: drop-shadow(0px 1px 2px rgba(0, 0, 0, 0.3));\n",
              "      fill: #FFFFFF;\n",
              "    }\n",
              "  </style>\n",
              "\n",
              "    <script>\n",
              "      const buttonEl =\n",
              "        document.querySelector('#df-f3f75756-46c7-4e55-8021-8fc055d940a1 button.colab-df-convert');\n",
              "      buttonEl.style.display =\n",
              "        google.colab.kernel.accessAllowed ? 'block' : 'none';\n",
              "\n",
              "      async function convertToInteractive(key) {\n",
              "        const element = document.querySelector('#df-f3f75756-46c7-4e55-8021-8fc055d940a1');\n",
              "        const dataTable =\n",
              "          await google.colab.kernel.invokeFunction('convertToInteractive',\n",
              "                                                    [key], {});\n",
              "        if (!dataTable) return;\n",
              "\n",
              "        const docLinkHtml = 'Like what you see? Visit the ' +\n",
              "          '<a target=\"_blank\" href=https://colab.research.google.com/notebooks/data_table.ipynb>data table notebook</a>'\n",
              "          + ' to learn more about interactive tables.';\n",
              "        element.innerHTML = '';\n",
              "        dataTable['output_type'] = 'display_data';\n",
              "        await google.colab.output.renderOutput(dataTable, element);\n",
              "        const docLink = document.createElement('div');\n",
              "        docLink.innerHTML = docLinkHtml;\n",
              "        element.appendChild(docLink);\n",
              "      }\n",
              "    </script>\n",
              "  </div>\n",
              "\n",
              "    </div>\n",
              "  </div>\n"
            ],
            "application/vnd.google.colaboratory.intrinsic+json": {
              "type": "dataframe",
              "variable_name": "selected_df_mode",
              "summary": "{\n  \"name\": \"selected_df_mode\",\n  \"rows\": 1,\n  \"fields\": [\n    {\n      \"column\": \"How well did you understand the concept of applied data science ?\",\n      \"properties\": {\n        \"dtype\": \"number\",\n        \"std\": NaN,\n        \"min\": 4.0,\n        \"max\": 4.0,\n        \"samples\": [\n          4.0\n        ],\n        \"num_unique_values\": 1,\n        \"semantic_type\": \"\",\n        \"description\": \"\"\n      }\n    },\n    {\n      \"column\": \"How well did you understand the difference between data science and data analytics ?\",\n      \"properties\": {\n        \"dtype\": \"number\",\n        \"std\": NaN,\n        \"min\": 4.0,\n        \"max\": 4.0,\n        \"samples\": [\n          4.0\n        ],\n        \"num_unique_values\": 1,\n        \"semantic_type\": \"\",\n        \"description\": \"\"\n      }\n    },\n    {\n      \"column\": \"How well did you understand the data wrangling?\",\n      \"properties\": {\n        \"dtype\": \"number\",\n        \"std\": NaN,\n        \"min\": 3.0,\n        \"max\": 3.0,\n        \"samples\": [\n          3.0\n        ],\n        \"num_unique_values\": 1,\n        \"semantic_type\": \"\",\n        \"description\": \"\"\n      }\n    },\n    {\n      \"column\": \"How well do you know about data lakes and different tools about data analytics?\",\n      \"properties\": {\n        \"dtype\": \"number\",\n        \"std\": NaN,\n        \"min\": 3.0,\n        \"max\": 3.0,\n        \"samples\": [\n          3.0\n        ],\n        \"num_unique_values\": 1,\n        \"semantic_type\": \"\",\n        \"description\": \"\"\n      }\n    },\n    {\n      \"column\": \"How well did you understand the concept of mean, median and mode?\",\n      \"properties\": {\n        \"dtype\": \"number\",\n        \"std\": NaN,\n        \"min\": 5.0,\n        \"max\": 5.0,\n        \"samples\": [\n          5.0\n        ],\n        \"num_unique_values\": 1,\n        \"semantic_type\": \"\",\n        \"description\": \"\"\n      }\n    },\n    {\n      \"column\": \"How well did you understand the concept of cumulative frequency?\",\n      \"properties\": {\n        \"dtype\": \"number\",\n        \"std\": NaN,\n        \"min\": 5.0,\n        \"max\": 5.0,\n        \"samples\": [\n          5.0\n        ],\n        \"num_unique_values\": 1,\n        \"semantic_type\": \"\",\n        \"description\": \"\"\n      }\n    },\n    {\n      \"column\": \"How well did you understand features related to iris flower dataset?\",\n      \"properties\": {\n        \"dtype\": \"number\",\n        \"std\": NaN,\n        \"min\": 4.0,\n        \"max\": 4.0,\n        \"samples\": [\n          4.0\n        ],\n        \"num_unique_values\": 1,\n        \"semantic_type\": \"\",\n        \"description\": \"\"\n      }\n    },\n    {\n      \"column\": \"How well are you able to solves numerical problems based on cumulative frequency?\",\n      \"properties\": {\n        \"dtype\": \"number\",\n        \"std\": NaN,\n        \"min\": 4.0,\n        \"max\": 4.0,\n        \"samples\": [\n          4.0\n        ],\n        \"num_unique_values\": 1,\n        \"semantic_type\": \"\",\n        \"description\": \"\"\n      }\n    },\n    {\n      \"column\": \"How well are you able to understand the different graphs like bar and histogram ?\",\n      \"properties\": {\n        \"dtype\": \"number\",\n        \"std\": NaN,\n        \"min\": 5.0,\n        \"max\": 5.0,\n        \"samples\": [\n          5.0\n        ],\n        \"num_unique_values\": 1,\n        \"semantic_type\": \"\",\n        \"description\": \"\"\n      }\n    },\n    {\n      \"column\": \"How well are you able to find arithmetic median based on class interval ?\",\n      \"properties\": {\n        \"dtype\": \"number\",\n        \"std\": NaN,\n        \"min\": 5.0,\n        \"max\": 5.0,\n        \"samples\": [\n          5.0\n        ],\n        \"num_unique_values\": 1,\n        \"semantic_type\": \"\",\n        \"description\": \"\"\n      }\n    }\n  ]\n}"
            }
          },
          "metadata": {},
          "execution_count": 16
        }
      ]
    },
    {
      "cell_type": "markdown",
      "source": [
        "***Standard deviation***"
      ],
      "metadata": {
        "id": "auUp2yooC5in"
      }
    },
    {
      "cell_type": "code",
      "source": [
        "selected_df.std()"
      ],
      "metadata": {
        "colab": {
          "base_uri": "https://localhost:8080/"
        },
        "id": "eqo3NYAAC9J5",
        "outputId": "1a75deca-03fc-4bce-dca6-8bf3d7744c8f"
      },
      "execution_count": 17,
      "outputs": [
        {
          "output_type": "execute_result",
          "data": {
            "text/plain": [
              "How well did you understand the concept of applied data science ?                       1.046171\n",
              "How well did you understand the difference between data science and data analytics ?    0.904041\n",
              "How well did you understand the data wrangling?                                         0.976096\n",
              "How well do you know about data lakes and different tools about data analytics?         0.991946\n",
              "How well did you understand the concept of mean, median and mode?                       0.785905\n",
              "How well did you understand the concept of cumulative frequency?                        1.007989\n",
              "How well did you understand features related to iris flower dataset?                    1.094468\n",
              "How well are you able to solves numerical problems based on cumulative frequency?       0.936961\n",
              "How well are you able to understand the different graphs like bar and histogram ?       1.018982\n",
              "How well are you able to find arithmetic median based on class interval ?               0.925476\n",
              "dtype: float64"
            ]
          },
          "metadata": {},
          "execution_count": 17
        }
      ]
    },
    {
      "cell_type": "markdown",
      "source": [
        "***Variance***"
      ],
      "metadata": {
        "id": "LQaSHgmVDCaT"
      }
    },
    {
      "cell_type": "code",
      "source": [
        "selected_df.var()"
      ],
      "metadata": {
        "colab": {
          "base_uri": "https://localhost:8080/"
        },
        "id": "KpLLKGOGDFVg",
        "outputId": "e1de2232-8cfb-4b09-88f7-5d3a4a482c3a"
      },
      "execution_count": 18,
      "outputs": [
        {
          "output_type": "execute_result",
          "data": {
            "text/plain": [
              "How well did you understand the concept of applied data science ?                       1.094474\n",
              "How well did you understand the difference between data science and data analytics ?    0.817291\n",
              "How well did you understand the data wrangling?                                         0.952763\n",
              "How well do you know about data lakes and different tools about data analytics?         0.983957\n",
              "How well did you understand the concept of mean, median and mode?                       0.617647\n",
              "How well did you understand the concept of cumulative frequency?                        1.016043\n",
              "How well did you understand features related to iris flower dataset?                    1.197861\n",
              "How well are you able to solves numerical problems based on cumulative frequency?       0.877897\n",
              "How well are you able to understand the different graphs like bar and histogram ?       1.038324\n",
              "How well are you able to find arithmetic median based on class interval ?               0.856506\n",
              "dtype: float64"
            ]
          },
          "metadata": {},
          "execution_count": 18
        }
      ]
    },
    {
      "cell_type": "markdown",
      "source": [
        "***Max**"
      ],
      "metadata": {
        "id": "9kiPUh7kDL6b"
      }
    },
    {
      "cell_type": "code",
      "source": [
        "selected_df.max()"
      ],
      "metadata": {
        "colab": {
          "base_uri": "https://localhost:8080/"
        },
        "id": "JWK2aIqDDOEl",
        "outputId": "c84347a9-f59b-4e52-b8d5-6deb1aa528ea"
      },
      "execution_count": 19,
      "outputs": [
        {
          "output_type": "execute_result",
          "data": {
            "text/plain": [
              "How well did you understand the concept of applied data science ?                       5.0\n",
              "How well did you understand the difference between data science and data analytics ?    5.0\n",
              "How well did you understand the data wrangling?                                         5.0\n",
              "How well do you know about data lakes and different tools about data analytics?         5.0\n",
              "How well did you understand the concept of mean, median and mode?                       5.0\n",
              "How well did you understand the concept of cumulative frequency?                        5.0\n",
              "How well did you understand features related to iris flower dataset?                    5.0\n",
              "How well are you able to solves numerical problems based on cumulative frequency?       5.0\n",
              "How well are you able to understand the different graphs like bar and histogram ?       5.0\n",
              "How well are you able to find arithmetic median based on class interval ?               5.0\n",
              "dtype: float64"
            ]
          },
          "metadata": {},
          "execution_count": 19
        }
      ]
    },
    {
      "cell_type": "markdown",
      "source": [
        "***Min***"
      ],
      "metadata": {
        "id": "iMLvMqsPDQ7V"
      }
    },
    {
      "cell_type": "code",
      "source": [
        "selected_df.min()"
      ],
      "metadata": {
        "colab": {
          "base_uri": "https://localhost:8080/"
        },
        "id": "dPSum6NWDSg1",
        "outputId": "940ad245-a157-468f-9687-9cd6785d25a3"
      },
      "execution_count": 20,
      "outputs": [
        {
          "output_type": "execute_result",
          "data": {
            "text/plain": [
              "How well did you understand the concept of applied data science ?                       1.0\n",
              "How well did you understand the difference between data science and data analytics ?    1.0\n",
              "How well did you understand the data wrangling?                                         1.0\n",
              "How well do you know about data lakes and different tools about data analytics?         1.0\n",
              "How well did you understand the concept of mean, median and mode?                       3.0\n",
              "How well did you understand the concept of cumulative frequency?                        1.0\n",
              "How well did you understand features related to iris flower dataset?                    1.0\n",
              "How well are you able to solves numerical problems based on cumulative frequency?       1.0\n",
              "How well are you able to understand the different graphs like bar and histogram ?       1.0\n",
              "How well are you able to find arithmetic median based on class interval ?               1.0\n",
              "dtype: float64"
            ]
          },
          "metadata": {},
          "execution_count": 20
        }
      ]
    },
    {
      "cell_type": "markdown",
      "source": [
        "***Range***"
      ],
      "metadata": {
        "id": "t8KbgneTDb4u"
      }
    },
    {
      "cell_type": "code",
      "source": [
        "range = selected_df.max() - selected_df.min()\n",
        "range"
      ],
      "metadata": {
        "colab": {
          "base_uri": "https://localhost:8080/"
        },
        "id": "rmGFpBZMDdu_",
        "outputId": "4e6a57ca-f4ba-4d3d-dd02-1d0c384b665b"
      },
      "execution_count": 21,
      "outputs": [
        {
          "output_type": "execute_result",
          "data": {
            "text/plain": [
              "How well did you understand the concept of applied data science ?                       4.0\n",
              "How well did you understand the difference between data science and data analytics ?    4.0\n",
              "How well did you understand the data wrangling?                                         4.0\n",
              "How well do you know about data lakes and different tools about data analytics?         4.0\n",
              "How well did you understand the concept of mean, median and mode?                       2.0\n",
              "How well did you understand the concept of cumulative frequency?                        4.0\n",
              "How well did you understand features related to iris flower dataset?                    4.0\n",
              "How well are you able to solves numerical problems based on cumulative frequency?       4.0\n",
              "How well are you able to understand the different graphs like bar and histogram ?       4.0\n",
              "How well are you able to find arithmetic median based on class interval ?               4.0\n",
              "dtype: float64"
            ]
          },
          "metadata": {},
          "execution_count": 21
        }
      ]
    },
    {
      "cell_type": "markdown",
      "source": [
        "***Kurtosis***"
      ],
      "metadata": {
        "id": "9gkCESktDr6J"
      }
    },
    {
      "cell_type": "code",
      "source": [
        "selected_df.kurtosis()"
      ],
      "metadata": {
        "colab": {
          "base_uri": "https://localhost:8080/"
        },
        "id": "eIobBO7hDuHC",
        "outputId": "528197f3-5d9e-4484-f688-d7fa4b0d4c1f"
      },
      "execution_count": 22,
      "outputs": [
        {
          "output_type": "execute_result",
          "data": {
            "text/plain": [
              "How well did you understand the concept of applied data science ?                       1.389446\n",
              "How well did you understand the difference between data science and data analytics ?    1.941915\n",
              "How well did you understand the data wrangling?                                         0.465444\n",
              "How well do you know about data lakes and different tools about data analytics?        -0.027929\n",
              "How well did you understand the concept of mean, median and mode?                      -0.606549\n",
              "How well did you understand the concept of cumulative frequency?                        1.391304\n",
              "How well did you understand features related to iris flower dataset?                    1.064355\n",
              "How well are you able to solves numerical problems based on cumulative frequency?       1.338851\n",
              "How well are you able to understand the different graphs like bar and histogram ?       1.890013\n",
              "How well are you able to find arithmetic median based on class interval ?               2.449309\n",
              "dtype: float64"
            ]
          },
          "metadata": {},
          "execution_count": 22
        }
      ]
    },
    {
      "cell_type": "markdown",
      "source": [
        "The kutosis is low i.e it has less outliers"
      ],
      "metadata": {
        "id": "54m3iwoTELjX"
      }
    },
    {
      "cell_type": "markdown",
      "source": [
        "***Skewness***"
      ],
      "metadata": {
        "id": "IJRgljLoEVm4"
      }
    },
    {
      "cell_type": "code",
      "source": [
        "selected_df.skew()"
      ],
      "metadata": {
        "colab": {
          "base_uri": "https://localhost:8080/"
        },
        "id": "ilK15MYwEca9",
        "outputId": "9d19bd14-5b18-42c2-f6a9-1b5a20964029"
      },
      "execution_count": 23,
      "outputs": [
        {
          "output_type": "execute_result",
          "data": {
            "text/plain": [
              "How well did you understand the concept of applied data science ?                      -1.182768\n",
              "How well did you understand the difference between data science and data analytics ?   -0.985669\n",
              "How well did you understand the data wrangling?                                        -0.507812\n",
              "How well do you know about data lakes and different tools about data analytics?        -0.284218\n",
              "How well did you understand the concept of mean, median and mode?                      -0.988052\n",
              "How well did you understand the concept of cumulative frequency?                       -1.191141\n",
              "How well did you understand features related to iris flower dataset?                   -1.080413\n",
              "How well are you able to solves numerical problems based on cumulative frequency?      -0.878474\n",
              "How well are you able to understand the different graphs like bar and histogram ?      -1.406668\n",
              "How well are you able to find arithmetic median based on class interval ?              -1.282631\n",
              "dtype: float64"
            ]
          },
          "metadata": {},
          "execution_count": 23
        }
      ]
    },
    {
      "cell_type": "markdown",
      "source": [
        "The data has negative skew i.e. it is inclines towards left side of the table"
      ],
      "metadata": {
        "id": "XGboAq0iEoIS"
      }
    },
    {
      "cell_type": "code",
      "source": [
        "\n",
        "\n",
        "# Assuming you have already calculated the mean, median, and mode\n",
        "selected_df_mean = selected_df[\"How well did you understand the concept of mean, median and mode?\"].mean()\n",
        "selected_df_median = selected_df[\"How well did you understand the concept of mean, median and mode?\"].median()\n",
        "selected_df_mode = selected_df[\"How well did you understand the concept of mean, median and mode?\"].mode().iloc[0]\n",
        "\n",
        "# Plotting the histogram\n",
        "plt.hist(selected_df[\"How well did you understand the concept of mean, median and mode?\"], edgecolor='black', color='purple')\n",
        "plt.axvline(selected_df_mean, color='red', lw=1, label=f'Mean : {selected_df_mean:.2f}')\n",
        "plt.axvline(selected_df_median, color='blue', lw=1, label=f'Median : {selected_df_median:.2f}')\n",
        "plt.axvline(selected_df_mode, color='green', lw=1, label=f'Mode : {selected_df_mode:.2f}')\n",
        "plt.xlabel('How well did you understand the concept of mean, median and mode?')\n",
        "plt.ylabel('Count')\n",
        "plt.title('How well did you understand the concept of mean, median and mode? (Negative skew)')\n",
        "plt.legend()\n",
        "plt.show()\n"
      ],
      "metadata": {
        "colab": {
          "base_uri": "https://localhost:8080/",
          "height": 472
        },
        "id": "-YRjJ4aFQfpu",
        "outputId": "503d6b94-7822-4ce2-b3b6-041d073950c7"
      },
      "execution_count": 24,
      "outputs": [
        {
          "output_type": "display_data",
          "data": {
            "text/plain": [
              "<Figure size 640x480 with 1 Axes>"
            ],
            "image/png": "[encoded data removed]"
          },
          "metadata": {}
        }
      ]
    },
    {
      "cell_type": "code",
      "source": [
        "numerical = selected_df\n",
        "print(numerical.shape)"
      ],
      "metadata": {
        "colab": {
          "base_uri": "https://localhost:8080/"
        },
        "id": "mVna2ohqJBHl",
        "outputId": "3977cae8-59bd-4ce9-8e30-bfc90c6ca430"
      },
      "execution_count": 25,
      "outputs": [
        {
          "output_type": "stream",
          "name": "stdout",
          "text": [
            "(34, 10)\n"
          ]
        }
      ]
    },
    {
      "cell_type": "code",
      "source": [
        "numerical = selected_columns\n",
        "fig, axis = plt.subplots(10,1, figsize=(15,40))\n",
        "for id, i in enumerate(numerical):\n",
        "  sns.histplot(data =  df['{}'.format(i)],ax = axis[id%10],bins=30, kde=True, color='lightgreen', edgecolor='red')\n",
        "plt.show()"
      ],
      "metadata": {
        "colab": {
          "base_uri": "https://localhost:8080/",
          "height": 1000
        },
        "id": "TERt1-D8Ii3h",
        "outputId": "d6015f68-9092-4b31-e470-b4b168b74956"
      },
      "execution_count": 26,
      "outputs": [
        {
          "output_type": "display_data",
          "data": {
            "text/plain": [
              "<Figure size 1500x4000 with 10 Axes>"
            ],
            "image/png": "[encoded data removed]"
          },
          "metadata": {}
        }
      ]
    },
    {
      "cell_type": "markdown",
      "source": [
        "***Inferential Analysis***"
      ],
      "metadata": {
        "id": "sL_ligWGSwaP"
      }
    },
    {
      "cell_type": "code",
      "source": [
        "from sklearn.model_selection import train_test_split\n",
        "from sklearn.linear_model import LinearRegression\n",
        "from sklearn import metrics\n",
        "from sklearn.impute import SimpleImputer"
      ],
      "metadata": {
        "id": "uVeUG-NoS4HU"
      },
      "execution_count": 27,
      "outputs": []
    },
    {
      "cell_type": "code",
      "source": [
        "column_means = df.mean()\n",
        "top_5_means = column_means.nlargest(5)\n",
        "top_5_means"
      ],
      "metadata": {
        "colab": {
          "base_uri": "https://localhost:8080/"
        },
        "id": "5m_Qy9tUS_gB",
        "outputId": "728f72ac-ad7d-4c82-be78-330b818b1fb2"
      },
      "execution_count": 28,
      "outputs": [
        {
          "output_type": "stream",
          "name": "stderr",
          "text": [
            "<ipython-input-28-5e8ae1a423b0>:1: FutureWarning: The default value of numeric_only in DataFrame.mean is deprecated. In a future version, it will default to False. In addition, specifying 'numeric_only=None' is deprecated. Select only valid columns or specify the value of numeric_only to silence this warning.\n",
            "  column_means = df.mean()\n"
          ]
        },
        {
          "output_type": "execute_result",
          "data": {
            "text/plain": [
              "How well did you understand the concept of mean, median and mode?                    4.441176\n",
              "How well are you able to understand the different graphs like bar and histogram ?    4.147059\n",
              "How well are you able to find arithmetic median based on class interval ?            4.147059\n",
              "How well did you understand the concept of cumulative frequency?                     4.117647\n",
              "How well was the use of presentation                                                 4.000000\n",
              "dtype: float64"
            ]
          },
          "metadata": {},
          "execution_count": 28
        }
      ]
    },
    {
      "cell_type": "code",
      "source": [
        "df['Target'] = df[top_5_means.index].mean(axis=1)\n",
        "X = df[top_5_means.index]\n",
        "y = df['Target']"
      ],
      "metadata": {
        "id": "NUinSLomTL_J"
      },
      "execution_count": 29,
      "outputs": []
    },
    {
      "cell_type": "code",
      "source": [
        "X_train, X_test, y_train, y_test = train_test_split(X,y,test_size=0.25,random_state=42)\n",
        "model=LinearRegression()\n",
        "model.fit(X_train,y_train)\n",
        "# Making predictions on the test set\n",
        "y_pred = model.predict(X_test)"
      ],
      "metadata": {
        "id": "x9U6Jj-OTVa-"
      },
      "execution_count": 30,
      "outputs": []
    },
    {
      "cell_type": "code",
      "source": [
        " # Evaluating the performance of the model\n",
        "print('Mean Absolute Error:', metrics.mean_absolute_error(y_test, y_pred))\n",
        "print('Mean Squared Error:', metrics.mean_squared_error(y_test, y_pred))\n",
        "print('Root Mean Squared Error:', metrics.mean_squared_error(y_test, y_pred, squared=False))"
      ],
      "metadata": {
        "colab": {
          "base_uri": "https://localhost:8080/"
        },
        "id": "ov75eh90TYAD",
        "outputId": "d0863e1b-739c-4c8e-dbfb-22a4abc8d4ce"
      },
      "execution_count": 31,
      "outputs": [
        {
          "output_type": "stream",
          "name": "stdout",
          "text": [
            "Mean Absolute Error: 1.3816108750890837e-15\n",
            "Mean Squared Error: 2.454233927354259e-30\n",
            "Root Mean Squared Error: 1.5665994789205884e-15\n"
          ]
        }
      ]
    },
    {
      "cell_type": "code",
      "source": [
        "plt.scatter(y_test, y_pred)"
      ],
      "metadata": {
        "colab": {
          "base_uri": "https://localhost:8080/",
          "height": 447
        },
        "id": "cCtGN_-3TjPB",
        "outputId": "9981b27d-20b6-400d-f5bd-8f216e23343e"
      },
      "execution_count": 32,
      "outputs": [
        {
          "output_type": "execute_result",
          "data": {
            "text/plain": [
              "<matplotlib.collections.PathCollection at 0x7d2e60e76c20>"
            ]
          },
          "metadata": {},
          "execution_count": 32
        },
        {
          "output_type": "display_data",
          "data": {
            "text/plain": [
              "<Figure size 640x480 with 1 Axes>"
            ],
            "image/png": "[encoded data removed]"
          },
          "metadata": {}
        }
      ]
    }
  ]
}